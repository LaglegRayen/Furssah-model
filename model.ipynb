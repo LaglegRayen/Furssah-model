{
 "cells": [
  {
   "cell_type": "code",
   "execution_count": 169,
   "id": "16d4d956",
   "metadata": {},
   "outputs": [],
   "source": [
    "import numpy as np\n",
    "import pandas as pd\n",
    "import os\n",
    "import matplotlib.pyplot as plt\n",
    "import seaborn as sns\n",
    "from sklearn.pipeline import Pipeline\n",
    "from sklearn.compose import ColumnTransformer\n",
    "from sklearn.preprocessing import StandardScaler, OneHotEncoder, FunctionTransformer\n",
    "from sklearn.ensemble import RandomForestClassifier\n",
    "from sklearn.base import BaseEstimator, TransformerMixin\n",
    "from xgboost import XGBClassifier\n",
    "from sklearn.model_selection import cross_val_score"
   ]
  },
  {
   "cell_type": "code",
   "execution_count": null,
   "id": "69884e25",
   "metadata": {},
   "outputs": [],
   "source": [
    "train_path = os.path.join('Training and Testing Sets', 'UNSW_NB15_training-set.csv')\n",
    "df_train = pd.read_csv(train_path, low_memory=False).drop('id', axis=1)"
   ]
  },
  {
   "cell_type": "code",
   "execution_count": null,
   "id": "4b4566c4",
   "metadata": {},
   "outputs": [
    {
     "name": "stdout",
     "output_type": "stream",
     "text": [
      "40\n"
     ]
    }
   ],
   "source": [
    "num_cols = df_train.select_dtypes(include=['int64', 'float64']).columns.tolist()\n",
    "cat_cols = df_train.select_dtypes(include=['object']).columns.tolist()\n"
   ]
  },
  {
   "cell_type": "code",
   "execution_count": 117,
   "id": "85ae9443",
   "metadata": {},
   "outputs": [],
   "source": [
    "# print(df_train.info())"
   ]
  },
  {
   "cell_type": "code",
   "execution_count": 153,
   "id": "3078470b",
   "metadata": {},
   "outputs": [],
   "source": [
    "df_num = df_train[num_cols].copy()\n",
    "\n",
    "corr_matrix = df_num.corr().abs()\n",
    "\n",
    "\n",
    "np.fill_diagonal(corr_matrix.values, 0)\n",
    "correlation_matrix = df_num.corr()\n",
    "correlation_with_target = correlation_matrix['label'].sort_values(ascending=False)\n",
    "# print(correlation_with_target)\n",
    "\n",
    "threshold = 0.9\n",
    "high_corr_num_pairs = np.where(corr_matrix > threshold)\n",
    "\n",
    "high_corr_features = [(corr_matrix.index[i], corr_matrix.columns[j], corr_matrix.iloc[i, j]) \n",
    "                      for i, j in zip(*high_corr_num_pairs) if i < j]\n",
    "high_corr_num_features = list()\n",
    "\n",
    "for f1, f2, corr_value in high_corr_features:\n",
    "    corr_f1 = abs(correlation_with_target[f1])\n",
    "    corr_f2 = abs(correlation_with_target[f2])\n",
    "\n",
    "    # print(f\"{f1} ↔ {f2}: {corr_value:.3f}\")\n",
    "    # print(f\"{f1} correlation with target: {corr_f1:.3f}\")\n",
    "    # print(f\"{f2} correlation with target: {corr_f2:.3f}\")\n",
    "\n",
    "    # Drop the feature with lower correlation with the target\n",
    "    if corr_f1 > corr_f2:\n",
    "        high_corr_num_features.append(f2)\n",
    "    else:\n",
    "        high_corr_num_features.append(f1)\n",
    "    # print(f\"Dropping {f2 if corr_f1 > corr_f2 else f1}\\n\")\n",
    "\n",
    "\n",
    "\n",
    "low_corr_num_features = correlation_with_target[correlation_with_target.abs() < 0.03].index.tolist()\n",
    "\n",
    "# print(f\"High correlation features: {high_corr_num_features}\")\n",
    "# print(f\"Low correlation features: {low_corr_num_features}\")\n",
    "\n",
    "# print(f\"Number of features to drop: {len(set(high_corr_num_features + low_corr_num_features))}\")\n"
   ]
  },
  {
   "cell_type": "code",
   "execution_count": 145,
   "id": "6011f688",
   "metadata": {},
   "outputs": [],
   "source": [
    "low_corr_num_features = correlation_with_target[correlation_with_target.abs() < 0.03].index.tolist()\n",
    "\n",
    "# df_num_decor = df_num.drop(columns=low_corr_num_features)\n",
    "# print(df_num_decor.columns)\n",
    "\n"
   ]
  },
  {
   "cell_type": "code",
   "execution_count": 133,
   "id": "744548b6",
   "metadata": {},
   "outputs": [
    {
     "name": "stdout",
     "output_type": "stream",
     "text": [
      "Low-variance categorical features (over 95% same value):\n",
      "service: 53.71% same value\n",
      "state: 46.92% same value\n",
      "proto: 45.59% same value\n",
      "attack_cat: 31.94% same value\n"
     ]
    }
   ],
   "source": [
    "df_cat = df_train[cat_cols].copy()\n",
    "low_var_cats = {feature : df_cat[feature].value_counts(normalize=True).max() for feature in df_cat.columns}\n",
    "sorted_vars = dict(sorted(low_var_cats.items(), key=lambda item: item[1], reverse = True))\n",
    "\n",
    "\n",
    "# Display features with very low variance\n",
    "print(\"Low-variance categorical features (over 95% same value):\")\n",
    "for k, v in sorted_vars.items():\n",
    "    print(f\"{k}: {v:.2%} same value\")"
   ]
  },
  {
   "cell_type": "code",
   "execution_count": 164,
   "id": "dff59ff1",
   "metadata": {},
   "outputs": [
    {
     "name": "stdout",
     "output_type": "stream",
     "text": [
      "165\n"
     ]
    }
   ],
   "source": [
    "values_nb = [len(df_cat[feature].value_counts()) for feature in df_cat.columns]\n",
    "print(sum(values_nb))"
   ]
  },
  {
   "cell_type": "code",
   "execution_count": null,
   "id": "98ed3f55",
   "metadata": {},
   "outputs": [],
   "source": []
  },
  {
   "cell_type": "code",
   "execution_count": 123,
   "id": "b7838783",
   "metadata": {},
   "outputs": [],
   "source": [
    "def drop_low_corr_features(X,cols):\n",
    "    return X.drop(columns=cols, errors='ignore')\n"
   ]
  },
  {
   "cell_type": "code",
   "execution_count": null,
   "id": "ebaec664",
   "metadata": {},
   "outputs": [],
   "source": []
  },
  {
   "cell_type": "code",
   "execution_count": null,
   "id": "d937a262",
   "metadata": {},
   "outputs": [],
   "source": []
  },
  {
   "cell_type": "code",
   "execution_count": 174,
   "id": "3c93a870",
   "metadata": {},
   "outputs": [],
   "source": [
    "num_transformer = Pipeline(steps=[\n",
    "    ('drop_low_corr', FunctionTransformer(drop_low_corr_features, kw_args={'cols': high_corr_num_features+low_corr_num_features}, validate=False)),\n",
    "    ('scaler', StandardScaler())\n",
    "])\n",
    "cat_transformer = Pipeline(steps=[('onehot', OneHotEncoder(handle_unknown='ignore'))])\n",
    "\n",
    "preprocessor = ColumnTransformer(\n",
    "    transformers=[\n",
    "        ('num', num_transformer,  [col for col in num_cols if col != 'label']),\n",
    "        ('cat', cat_transformer, cat_cols)\n",
    "    ]\n",
    ")\n",
    "\n"
   ]
  },
  {
   "cell_type": "code",
   "execution_count": null,
   "id": "d1a024dd",
   "metadata": {},
   "outputs": [
    {
     "name": "stdout",
     "output_type": "stream",
     "text": [
      "Final features after preprocessing:\n",
      "20\n"
     ]
    }
   ],
   "source": [
    "# preprocessor.fit(df_train)\n",
    "# X_num_dropped = drop_low_corr_features(df_train[num_cols], \n",
    "#                                        cols=high_corr_num_features + low_corr_num_features)\n",
    "# remaining_num_cols = X_num_dropped.columns.tolist()\n",
    "# cat_feature_names = preprocessor.named_transformers_['cat']\\\n",
    "#     .named_steps['onehot'].get_feature_names_out(cat_cols)\n",
    "# print(len(cat_feature_names))\n",
    "# all_features = remaining_num_cols + cat_feature_names.tolist()\n",
    "\n",
    "# print(\"Final features after preprocessing:\")\n",
    "# print(len(remaining_num_cols))"
   ]
  },
  {
   "cell_type": "code",
   "execution_count": 177,
   "id": "9aac6eb7",
   "metadata": {},
   "outputs": [],
   "source": [
    "pipeline = Pipeline(steps=[\n",
    "    ('preprocessor', preprocessor),\n",
    "    ('model', RandomForestClassifier(n_estimators=100,verbose=1, random_state=42, n_jobs=-1))\n",
    "]\n",
    ")"
   ]
  },
  {
   "cell_type": "code",
   "execution_count": 179,
   "id": "fe5739c2",
   "metadata": {},
   "outputs": [],
   "source": [
    "X_train, y_train = df_train.drop(columns='label'), df_train['label']"
   ]
  },
  {
   "cell_type": "code",
   "execution_count": 184,
   "id": "038c9845",
   "metadata": {},
   "outputs": [
    {
     "name": "stderr",
     "output_type": "stream",
     "text": [
      "[Parallel(n_jobs=-1)]: Using backend ThreadingBackend with 6 concurrent workers.\n",
      "[Parallel(n_jobs=-1)]: Done  38 tasks      | elapsed:    4.5s\n",
      "[Parallel(n_jobs=-1)]: Done 100 out of 100 | elapsed:   10.4s finished\n"
     ]
    },
    {
     "data": {
      "text/html": [
       "<style>#sk-container-id-3 {color: black;}#sk-container-id-3 pre{padding: 0;}#sk-container-id-3 div.sk-toggleable {background-color: white;}#sk-container-id-3 label.sk-toggleable__label {cursor: pointer;display: block;width: 100%;margin-bottom: 0;padding: 0.3em;box-sizing: border-box;text-align: center;}#sk-container-id-3 label.sk-toggleable__label-arrow:before {content: \"▸\";float: left;margin-right: 0.25em;color: #696969;}#sk-container-id-3 label.sk-toggleable__label-arrow:hover:before {color: black;}#sk-container-id-3 div.sk-estimator:hover label.sk-toggleable__label-arrow:before {color: black;}#sk-container-id-3 div.sk-toggleable__content {max-height: 0;max-width: 0;overflow: hidden;text-align: left;background-color: #f0f8ff;}#sk-container-id-3 div.sk-toggleable__content pre {margin: 0.2em;color: black;border-radius: 0.25em;background-color: #f0f8ff;}#sk-container-id-3 input.sk-toggleable__control:checked~div.sk-toggleable__content {max-height: 200px;max-width: 100%;overflow: auto;}#sk-container-id-3 input.sk-toggleable__control:checked~label.sk-toggleable__label-arrow:before {content: \"▾\";}#sk-container-id-3 div.sk-estimator input.sk-toggleable__control:checked~label.sk-toggleable__label {background-color: #d4ebff;}#sk-container-id-3 div.sk-label input.sk-toggleable__control:checked~label.sk-toggleable__label {background-color: #d4ebff;}#sk-container-id-3 input.sk-hidden--visually {border: 0;clip: rect(1px 1px 1px 1px);clip: rect(1px, 1px, 1px, 1px);height: 1px;margin: -1px;overflow: hidden;padding: 0;position: absolute;width: 1px;}#sk-container-id-3 div.sk-estimator {font-family: monospace;background-color: #f0f8ff;border: 1px dotted black;border-radius: 0.25em;box-sizing: border-box;margin-bottom: 0.5em;}#sk-container-id-3 div.sk-estimator:hover {background-color: #d4ebff;}#sk-container-id-3 div.sk-parallel-item::after {content: \"\";width: 100%;border-bottom: 1px solid gray;flex-grow: 1;}#sk-container-id-3 div.sk-label:hover label.sk-toggleable__label {background-color: #d4ebff;}#sk-container-id-3 div.sk-serial::before {content: \"\";position: absolute;border-left: 1px solid gray;box-sizing: border-box;top: 0;bottom: 0;left: 50%;z-index: 0;}#sk-container-id-3 div.sk-serial {display: flex;flex-direction: column;align-items: center;background-color: white;padding-right: 0.2em;padding-left: 0.2em;position: relative;}#sk-container-id-3 div.sk-item {position: relative;z-index: 1;}#sk-container-id-3 div.sk-parallel {display: flex;align-items: stretch;justify-content: center;background-color: white;position: relative;}#sk-container-id-3 div.sk-item::before, #sk-container-id-3 div.sk-parallel-item::before {content: \"\";position: absolute;border-left: 1px solid gray;box-sizing: border-box;top: 0;bottom: 0;left: 50%;z-index: -1;}#sk-container-id-3 div.sk-parallel-item {display: flex;flex-direction: column;z-index: 1;position: relative;background-color: white;}#sk-container-id-3 div.sk-parallel-item:first-child::after {align-self: flex-end;width: 50%;}#sk-container-id-3 div.sk-parallel-item:last-child::after {align-self: flex-start;width: 50%;}#sk-container-id-3 div.sk-parallel-item:only-child::after {width: 0;}#sk-container-id-3 div.sk-dashed-wrapped {border: 1px dashed gray;margin: 0 0.4em 0.5em 0.4em;box-sizing: border-box;padding-bottom: 0.4em;background-color: white;}#sk-container-id-3 div.sk-label label {font-family: monospace;font-weight: bold;display: inline-block;line-height: 1.2em;}#sk-container-id-3 div.sk-label-container {text-align: center;}#sk-container-id-3 div.sk-container {/* jupyter's `normalize.less` sets `[hidden] { display: none; }` but bootstrap.min.css set `[hidden] { display: none !important; }` so we also need the `!important` here to be able to override the default hidden behavior on the sphinx rendered scikit-learn.org. See: https://github.com/scikit-learn/scikit-learn/issues/21755 */display: inline-block !important;position: relative;}#sk-container-id-3 div.sk-text-repr-fallback {display: none;}</style><div id=\"sk-container-id-3\" class=\"sk-top-container\"><div class=\"sk-text-repr-fallback\"><pre>Pipeline(steps=[(&#x27;preprocessor&#x27;,\n",
       "                 ColumnTransformer(transformers=[(&#x27;num&#x27;,\n",
       "                                                  Pipeline(steps=[(&#x27;drop_low_corr&#x27;,\n",
       "                                                                   FunctionTransformer(func=&lt;function drop_low_corr_features at 0x0000011ABCBA8790&gt;,\n",
       "                                                                                       kw_args={&#x27;cols&#x27;: [&#x27;sbytes&#x27;,\n",
       "                                                                                                         &#x27;sloss&#x27;,\n",
       "                                                                                                         &#x27;dbytes&#x27;,\n",
       "                                                                                                         &#x27;dloss&#x27;,\n",
       "                                                                                                         &#x27;sloss&#x27;,\n",
       "                                                                                                         &#x27;dbytes&#x27;,\n",
       "                                                                                                         &#x27;sinpkt&#x27;,\n",
       "                                                                                                         &#x27;dwin&#x27;,\n",
       "                                                                                                         &#x27;synack&#x27;,\n",
       "                                                                                                         &#x27;tcprtt&#x27;,\n",
       "                                                                                                         &#x27;ct_srv_src&#x27;,\n",
       "                                                                                                         &#x27;ct_srv_dst&#x27;,\n",
       "                                                                                                         &#x27;ct_dst_ltm&#x27;,\n",
       "                                                                                                         &#x27;ct_src_dport_ltm&#x27;,\n",
       "                                                                                                         &#x27;ct_srv_...\n",
       "                                                   &#x27;djit&#x27;, &#x27;swin&#x27;, &#x27;stcpb&#x27;,\n",
       "                                                   &#x27;dtcpb&#x27;, &#x27;dwin&#x27;, &#x27;tcprtt&#x27;,\n",
       "                                                   &#x27;synack&#x27;, &#x27;ackdat&#x27;, &#x27;smean&#x27;,\n",
       "                                                   &#x27;dmean&#x27;, &#x27;trans_depth&#x27;,\n",
       "                                                   &#x27;response_body_len&#x27;,\n",
       "                                                   &#x27;ct_srv_src&#x27;, &#x27;ct_state_ttl&#x27;,\n",
       "                                                   &#x27;ct_dst_ltm&#x27;, ...]),\n",
       "                                                 (&#x27;cat&#x27;,\n",
       "                                                  Pipeline(steps=[(&#x27;onehot&#x27;,\n",
       "                                                                   OneHotEncoder(handle_unknown=&#x27;ignore&#x27;))]),\n",
       "                                                  [&#x27;proto&#x27;, &#x27;service&#x27;, &#x27;state&#x27;,\n",
       "                                                   &#x27;attack_cat&#x27;])])),\n",
       "                (&#x27;model&#x27;,\n",
       "                 RandomForestClassifier(n_jobs=-1, random_state=42,\n",
       "                                        verbose=1))])</pre><b>In a Jupyter environment, please rerun this cell to show the HTML representation or trust the notebook. <br />On GitHub, the HTML representation is unable to render, please try loading this page with nbviewer.org.</b></div><div class=\"sk-container\" hidden><div class=\"sk-item sk-dashed-wrapped\"><div class=\"sk-label-container\"><div class=\"sk-label sk-toggleable\"><input class=\"sk-toggleable__control sk-hidden--visually\" id=\"sk-estimator-id-15\" type=\"checkbox\" ><label for=\"sk-estimator-id-15\" class=\"sk-toggleable__label sk-toggleable__label-arrow\">Pipeline</label><div class=\"sk-toggleable__content\"><pre>Pipeline(steps=[(&#x27;preprocessor&#x27;,\n",
       "                 ColumnTransformer(transformers=[(&#x27;num&#x27;,\n",
       "                                                  Pipeline(steps=[(&#x27;drop_low_corr&#x27;,\n",
       "                                                                   FunctionTransformer(func=&lt;function drop_low_corr_features at 0x0000011ABCBA8790&gt;,\n",
       "                                                                                       kw_args={&#x27;cols&#x27;: [&#x27;sbytes&#x27;,\n",
       "                                                                                                         &#x27;sloss&#x27;,\n",
       "                                                                                                         &#x27;dbytes&#x27;,\n",
       "                                                                                                         &#x27;dloss&#x27;,\n",
       "                                                                                                         &#x27;sloss&#x27;,\n",
       "                                                                                                         &#x27;dbytes&#x27;,\n",
       "                                                                                                         &#x27;sinpkt&#x27;,\n",
       "                                                                                                         &#x27;dwin&#x27;,\n",
       "                                                                                                         &#x27;synack&#x27;,\n",
       "                                                                                                         &#x27;tcprtt&#x27;,\n",
       "                                                                                                         &#x27;ct_srv_src&#x27;,\n",
       "                                                                                                         &#x27;ct_srv_dst&#x27;,\n",
       "                                                                                                         &#x27;ct_dst_ltm&#x27;,\n",
       "                                                                                                         &#x27;ct_src_dport_ltm&#x27;,\n",
       "                                                                                                         &#x27;ct_srv_...\n",
       "                                                   &#x27;djit&#x27;, &#x27;swin&#x27;, &#x27;stcpb&#x27;,\n",
       "                                                   &#x27;dtcpb&#x27;, &#x27;dwin&#x27;, &#x27;tcprtt&#x27;,\n",
       "                                                   &#x27;synack&#x27;, &#x27;ackdat&#x27;, &#x27;smean&#x27;,\n",
       "                                                   &#x27;dmean&#x27;, &#x27;trans_depth&#x27;,\n",
       "                                                   &#x27;response_body_len&#x27;,\n",
       "                                                   &#x27;ct_srv_src&#x27;, &#x27;ct_state_ttl&#x27;,\n",
       "                                                   &#x27;ct_dst_ltm&#x27;, ...]),\n",
       "                                                 (&#x27;cat&#x27;,\n",
       "                                                  Pipeline(steps=[(&#x27;onehot&#x27;,\n",
       "                                                                   OneHotEncoder(handle_unknown=&#x27;ignore&#x27;))]),\n",
       "                                                  [&#x27;proto&#x27;, &#x27;service&#x27;, &#x27;state&#x27;,\n",
       "                                                   &#x27;attack_cat&#x27;])])),\n",
       "                (&#x27;model&#x27;,\n",
       "                 RandomForestClassifier(n_jobs=-1, random_state=42,\n",
       "                                        verbose=1))])</pre></div></div></div><div class=\"sk-serial\"><div class=\"sk-item sk-dashed-wrapped\"><div class=\"sk-label-container\"><div class=\"sk-label sk-toggleable\"><input class=\"sk-toggleable__control sk-hidden--visually\" id=\"sk-estimator-id-16\" type=\"checkbox\" ><label for=\"sk-estimator-id-16\" class=\"sk-toggleable__label sk-toggleable__label-arrow\">preprocessor: ColumnTransformer</label><div class=\"sk-toggleable__content\"><pre>ColumnTransformer(transformers=[(&#x27;num&#x27;,\n",
       "                                 Pipeline(steps=[(&#x27;drop_low_corr&#x27;,\n",
       "                                                  FunctionTransformer(func=&lt;function drop_low_corr_features at 0x0000011ABCBA8790&gt;,\n",
       "                                                                      kw_args={&#x27;cols&#x27;: [&#x27;sbytes&#x27;,\n",
       "                                                                                        &#x27;sloss&#x27;,\n",
       "                                                                                        &#x27;dbytes&#x27;,\n",
       "                                                                                        &#x27;dloss&#x27;,\n",
       "                                                                                        &#x27;sloss&#x27;,\n",
       "                                                                                        &#x27;dbytes&#x27;,\n",
       "                                                                                        &#x27;sinpkt&#x27;,\n",
       "                                                                                        &#x27;dwin&#x27;,\n",
       "                                                                                        &#x27;synack&#x27;,\n",
       "                                                                                        &#x27;tcprtt&#x27;,\n",
       "                                                                                        &#x27;ct_srv_src&#x27;,\n",
       "                                                                                        &#x27;ct_srv_dst&#x27;,\n",
       "                                                                                        &#x27;ct_dst_ltm&#x27;,\n",
       "                                                                                        &#x27;ct_src_dport_ltm&#x27;,\n",
       "                                                                                        &#x27;ct_srv_dst&#x27;,\n",
       "                                                                                        &#x27;is_ftp_login&#x27;,\n",
       "                                                                                        &#x27;sbytes&#x27;,\n",
       "                                                                                        &#x27;ct...\n",
       "                                  &#x27;rate&#x27;, &#x27;sttl&#x27;, &#x27;dttl&#x27;, &#x27;sload&#x27;, &#x27;dload&#x27;,\n",
       "                                  &#x27;sloss&#x27;, &#x27;dloss&#x27;, &#x27;sinpkt&#x27;, &#x27;dinpkt&#x27;, &#x27;sjit&#x27;,\n",
       "                                  &#x27;djit&#x27;, &#x27;swin&#x27;, &#x27;stcpb&#x27;, &#x27;dtcpb&#x27;, &#x27;dwin&#x27;,\n",
       "                                  &#x27;tcprtt&#x27;, &#x27;synack&#x27;, &#x27;ackdat&#x27;, &#x27;smean&#x27;,\n",
       "                                  &#x27;dmean&#x27;, &#x27;trans_depth&#x27;, &#x27;response_body_len&#x27;,\n",
       "                                  &#x27;ct_srv_src&#x27;, &#x27;ct_state_ttl&#x27;, &#x27;ct_dst_ltm&#x27;, ...]),\n",
       "                                (&#x27;cat&#x27;,\n",
       "                                 Pipeline(steps=[(&#x27;onehot&#x27;,\n",
       "                                                  OneHotEncoder(handle_unknown=&#x27;ignore&#x27;))]),\n",
       "                                 [&#x27;proto&#x27;, &#x27;service&#x27;, &#x27;state&#x27;, &#x27;attack_cat&#x27;])])</pre></div></div></div><div class=\"sk-parallel\"><div class=\"sk-parallel-item\"><div class=\"sk-item\"><div class=\"sk-label-container\"><div class=\"sk-label sk-toggleable\"><input class=\"sk-toggleable__control sk-hidden--visually\" id=\"sk-estimator-id-17\" type=\"checkbox\" ><label for=\"sk-estimator-id-17\" class=\"sk-toggleable__label sk-toggleable__label-arrow\">num</label><div class=\"sk-toggleable__content\"><pre>[&#x27;dur&#x27;, &#x27;spkts&#x27;, &#x27;dpkts&#x27;, &#x27;sbytes&#x27;, &#x27;dbytes&#x27;, &#x27;rate&#x27;, &#x27;sttl&#x27;, &#x27;dttl&#x27;, &#x27;sload&#x27;, &#x27;dload&#x27;, &#x27;sloss&#x27;, &#x27;dloss&#x27;, &#x27;sinpkt&#x27;, &#x27;dinpkt&#x27;, &#x27;sjit&#x27;, &#x27;djit&#x27;, &#x27;swin&#x27;, &#x27;stcpb&#x27;, &#x27;dtcpb&#x27;, &#x27;dwin&#x27;, &#x27;tcprtt&#x27;, &#x27;synack&#x27;, &#x27;ackdat&#x27;, &#x27;smean&#x27;, &#x27;dmean&#x27;, &#x27;trans_depth&#x27;, &#x27;response_body_len&#x27;, &#x27;ct_srv_src&#x27;, &#x27;ct_state_ttl&#x27;, &#x27;ct_dst_ltm&#x27;, &#x27;ct_src_dport_ltm&#x27;, &#x27;ct_dst_sport_ltm&#x27;, &#x27;ct_dst_src_ltm&#x27;, &#x27;is_ftp_login&#x27;, &#x27;ct_ftp_cmd&#x27;, &#x27;ct_flw_http_mthd&#x27;, &#x27;ct_src_ltm&#x27;, &#x27;ct_srv_dst&#x27;, &#x27;is_sm_ips_ports&#x27;]</pre></div></div></div><div class=\"sk-serial\"><div class=\"sk-item\"><div class=\"sk-serial\"><div class=\"sk-item\"><div class=\"sk-estimator sk-toggleable\"><input class=\"sk-toggleable__control sk-hidden--visually\" id=\"sk-estimator-id-18\" type=\"checkbox\" ><label for=\"sk-estimator-id-18\" class=\"sk-toggleable__label sk-toggleable__label-arrow\">FunctionTransformer</label><div class=\"sk-toggleable__content\"><pre>FunctionTransformer(func=&lt;function drop_low_corr_features at 0x0000011ABCBA8790&gt;,\n",
       "                    kw_args={&#x27;cols&#x27;: [&#x27;sbytes&#x27;, &#x27;sloss&#x27;, &#x27;dbytes&#x27;, &#x27;dloss&#x27;,\n",
       "                                      &#x27;sloss&#x27;, &#x27;dbytes&#x27;, &#x27;sinpkt&#x27;, &#x27;dwin&#x27;,\n",
       "                                      &#x27;synack&#x27;, &#x27;tcprtt&#x27;, &#x27;ct_srv_src&#x27;,\n",
       "                                      &#x27;ct_srv_dst&#x27;, &#x27;ct_dst_ltm&#x27;,\n",
       "                                      &#x27;ct_src_dport_ltm&#x27;, &#x27;ct_srv_dst&#x27;,\n",
       "                                      &#x27;is_ftp_login&#x27;, &#x27;sbytes&#x27;,\n",
       "                                      &#x27;ct_flw_http_mthd&#x27;, &#x27;trans_depth&#x27;,\n",
       "                                      &#x27;sloss&#x27;, &#x27;sjit&#x27;, &#x27;smean&#x27;, &#x27;ct_ftp_cmd&#x27;,\n",
       "                                      &#x27;is_ftp_login&#x27;, &#x27;response_body_len&#x27;,\n",
       "                                      &#x27;dinpkt&#x27;]})</pre></div></div></div><div class=\"sk-item\"><div class=\"sk-estimator sk-toggleable\"><input class=\"sk-toggleable__control sk-hidden--visually\" id=\"sk-estimator-id-19\" type=\"checkbox\" ><label for=\"sk-estimator-id-19\" class=\"sk-toggleable__label sk-toggleable__label-arrow\">StandardScaler</label><div class=\"sk-toggleable__content\"><pre>StandardScaler()</pre></div></div></div></div></div></div></div></div><div class=\"sk-parallel-item\"><div class=\"sk-item\"><div class=\"sk-label-container\"><div class=\"sk-label sk-toggleable\"><input class=\"sk-toggleable__control sk-hidden--visually\" id=\"sk-estimator-id-20\" type=\"checkbox\" ><label for=\"sk-estimator-id-20\" class=\"sk-toggleable__label sk-toggleable__label-arrow\">cat</label><div class=\"sk-toggleable__content\"><pre>[&#x27;proto&#x27;, &#x27;service&#x27;, &#x27;state&#x27;, &#x27;attack_cat&#x27;]</pre></div></div></div><div class=\"sk-serial\"><div class=\"sk-item\"><div class=\"sk-serial\"><div class=\"sk-item\"><div class=\"sk-estimator sk-toggleable\"><input class=\"sk-toggleable__control sk-hidden--visually\" id=\"sk-estimator-id-21\" type=\"checkbox\" ><label for=\"sk-estimator-id-21\" class=\"sk-toggleable__label sk-toggleable__label-arrow\">OneHotEncoder</label><div class=\"sk-toggleable__content\"><pre>OneHotEncoder(handle_unknown=&#x27;ignore&#x27;)</pre></div></div></div></div></div></div></div></div></div></div><div class=\"sk-item\"><div class=\"sk-estimator sk-toggleable\"><input class=\"sk-toggleable__control sk-hidden--visually\" id=\"sk-estimator-id-22\" type=\"checkbox\" ><label for=\"sk-estimator-id-22\" class=\"sk-toggleable__label sk-toggleable__label-arrow\">RandomForestClassifier</label><div class=\"sk-toggleable__content\"><pre>RandomForestClassifier(n_jobs=-1, random_state=42, verbose=1)</pre></div></div></div></div></div></div></div>"
      ],
      "text/plain": [
       "Pipeline(steps=[('preprocessor',\n",
       "                 ColumnTransformer(transformers=[('num',\n",
       "                                                  Pipeline(steps=[('drop_low_corr',\n",
       "                                                                   FunctionTransformer(func=<function drop_low_corr_features at 0x0000011ABCBA8790>,\n",
       "                                                                                       kw_args={'cols': ['sbytes',\n",
       "                                                                                                         'sloss',\n",
       "                                                                                                         'dbytes',\n",
       "                                                                                                         'dloss',\n",
       "                                                                                                         'sloss',\n",
       "                                                                                                         'dbytes',\n",
       "                                                                                                         'sinpkt',\n",
       "                                                                                                         'dwin',\n",
       "                                                                                                         'synack',\n",
       "                                                                                                         'tcprtt',\n",
       "                                                                                                         'ct_srv_src',\n",
       "                                                                                                         'ct_srv_dst',\n",
       "                                                                                                         'ct_dst_ltm',\n",
       "                                                                                                         'ct_src_dport_ltm',\n",
       "                                                                                                         'ct_srv_...\n",
       "                                                   'djit', 'swin', 'stcpb',\n",
       "                                                   'dtcpb', 'dwin', 'tcprtt',\n",
       "                                                   'synack', 'ackdat', 'smean',\n",
       "                                                   'dmean', 'trans_depth',\n",
       "                                                   'response_body_len',\n",
       "                                                   'ct_srv_src', 'ct_state_ttl',\n",
       "                                                   'ct_dst_ltm', ...]),\n",
       "                                                 ('cat',\n",
       "                                                  Pipeline(steps=[('onehot',\n",
       "                                                                   OneHotEncoder(handle_unknown='ignore'))]),\n",
       "                                                  ['proto', 'service', 'state',\n",
       "                                                   'attack_cat'])])),\n",
       "                ('model',\n",
       "                 RandomForestClassifier(n_jobs=-1, random_state=42,\n",
       "                                        verbose=1))])"
      ]
     },
     "execution_count": 184,
     "metadata": {},
     "output_type": "execute_result"
    }
   ],
   "source": [
    "pipeline.fit(X_train, y_train)\n",
    "\n",
    "\n"
   ]
  },
  {
   "cell_type": "code",
   "execution_count": null,
   "id": "d9ab49d7",
   "metadata": {},
   "outputs": [
    {
     "name": "stdout",
     "output_type": "stream",
     "text": [
      "Index(['dur', 'proto', 'service', 'state', 'spkts', 'dpkts', 'sbytes',\n",
      "       'dbytes', 'rate', 'sttl', 'dttl', 'sload', 'dload', 'sloss', 'dloss',\n",
      "       'sinpkt', 'dinpkt', 'sjit', 'djit', 'swin', 'stcpb', 'dtcpb', 'dwin',\n",
      "       'tcprtt', 'synack', 'ackdat', 'smean', 'dmean', 'trans_depth',\n",
      "       'response_body_len', 'ct_srv_src', 'ct_state_ttl', 'ct_dst_ltm',\n",
      "       'ct_src_dport_ltm', 'ct_dst_sport_ltm', 'ct_dst_src_ltm',\n",
      "       'is_ftp_login', 'ct_ftp_cmd', 'ct_flw_http_mthd', 'ct_src_ltm',\n",
      "       'ct_srv_dst', 'is_sm_ips_ports', 'attack_cat'],\n",
      "      dtype='object')\n"
     ]
    }
   ],
   "source": [
    "test_path = os.path.join('Training and Testing Sets', 'UNSW_NB15_testing-set.csv')\n",
    "df_test = pd.read_csv(train_path, low_memory=False).drop('id', axis=1)\n",
    "X_test, y_test = df_test.drop(columns='label'), df_test['label']\n"
   ]
  },
  {
   "cell_type": "code",
   "execution_count": 187,
   "id": "c582b8a6",
   "metadata": {},
   "outputs": [
    {
     "name": "stderr",
     "output_type": "stream",
     "text": [
      "[Parallel(n_jobs=6)]: Using backend ThreadingBackend with 6 concurrent workers.\n",
      "[Parallel(n_jobs=6)]: Done  38 tasks      | elapsed:    0.1s\n"
     ]
    },
    {
     "name": "stdout",
     "output_type": "stream",
     "text": [
      "Accuracy: 1.0\n"
     ]
    },
    {
     "name": "stderr",
     "output_type": "stream",
     "text": [
      "[Parallel(n_jobs=6)]: Done 100 out of 100 | elapsed:    0.5s finished\n"
     ]
    }
   ],
   "source": [
    "print(\"Accuracy:\", pipeline.score(X_test, y_test))"
   ]
  },
  {
   "cell_type": "code",
   "execution_count": null,
   "id": "d8c10b88",
   "metadata": {},
   "outputs": [],
   "source": []
  }
 ],
 "metadata": {
  "kernelspec": {
   "display_name": "Python 3",
   "language": "python",
   "name": "python3"
  },
  "language_info": {
   "codemirror_mode": {
    "name": "ipython",
    "version": 3
   },
   "file_extension": ".py",
   "mimetype": "text/x-python",
   "name": "python",
   "nbconvert_exporter": "python",
   "pygments_lexer": "ipython3",
   "version": "3.10.0"
  }
 },
 "nbformat": 4,
 "nbformat_minor": 5
}
